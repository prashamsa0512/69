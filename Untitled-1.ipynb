{
 "cells": [
  {
   "cell_type": "code",
   "execution_count": null,
   "metadata": {},
   "outputs": [],
   "source": []
  },
  {
   "cell_type": "code",
   "execution_count": 15,
   "metadata": {},
   "outputs": [
    {
     "data": {
      "text/plain": [
       "array([4, 5, 6])"
      ]
     },
     "execution_count": 15,
     "metadata": {},
     "output_type": "execute_result"
    }
   ],
   "source": [
    "import numpy as np \n",
    "lst1=[1,2,3]\n",
    "array1=np.array(lst1)\n",
    "array1\n",
    "lst2=[4,5,6]\n",
    "array2=np.array(lst2)\n",
    "array2\n",
    "\n",
    "\n"
   ]
  },
  {
   "cell_type": "code",
   "execution_count": 4,
   "metadata": {},
   "outputs": [
    {
     "data": {
      "text/plain": [
       "numpy.ndarray"
      ]
     },
     "execution_count": 4,
     "metadata": {},
     "output_type": "execute_result"
    }
   ],
   "source": [
    "type(lst1)\n",
    "type(array1)\n"
   ]
  },
  {
   "cell_type": "code",
   "execution_count": 17,
   "metadata": {},
   "outputs": [
    {
     "name": "stdout",
     "output_type": "stream",
     "text": [
      "array2 multiplied by array1: [ 4 10 18]\n",
      "array2 divided by array1: [4.  2.5 2. ]\n",
      "array2 raised to the power of array1: [  4  25 216]\n",
      "Sine: [0.84147098 0.90929743 0.14112001]\n",
      "Natural logarithm: [0.         0.69314718 1.09861229]\n",
      "Base-10 logarithm: [0.         0.30103    0.47712125]\n",
      "Base-2 logarithm: [0.        1.        1.5849625]\n",
      "Exponential:  [ 2.71828183  7.3890561  20.08553692]\n",
      "array2 multiplied by array1: [ 4 10 18]\n",
      "array2 divided by array1: [4.  2.5 2. ]\n",
      "array2 raised to the power of array1: [  4  25 216]\n",
      "Sine: [0.84147098 0.90929743 0.14112001]\n",
      "Natural logarithm: [0.         0.69314718 1.09861229]\n",
      "Base-10 logarithm: [0.         0.30103    0.47712125]\n",
      "Base-2 logarithm: [0.        1.        1.5849625]\n",
      "Exponential:  [ 2.71828183  7.3890561  20.08553692]\n"
     ]
    }
   ],
   "source": [
    "print(\"array2 multiplied by array1:\",array1*array2) \n",
    "print(\"array2 divided by array1:\",array2/array1) \n",
    "print(\"array2 raised to the power of array1:\",array2**array1) \n",
    "#sine function\n",
    "print(\"Sine:\",np.sin(array1))\n",
    "#Logarithm\n",
    "print(\"Natural logarithm:\",np.log(array1))\n",
    "print(\"Base-10 logarithm:\",np.log10(array1))\n",
    "print(\"Base-2 logarithm:\",np.log2(array1))\n",
    "#Exponential\n",
    "print(\"Exponential: \",np.exp(array1))\n",
    "print(\"array2 multiplied by array1:\",array1*array2) \n",
    "print(\"array2 divided by array1:\",array2/array1) \n",
    "print(\"array2 raised to the power of array1:\",array2**array1) \n",
    "#sine function\n",
    "print(\"Sine:\",np.sin(array1))\n",
    "#Logarithm\n",
    "print(\"Natural logarithm:\",np.log(array1))\n",
    "print(\"Base-10 logarithm:\",np.log10(array1))\n",
    "print(\"Base-2 logarithm:\",np.log2(array1))\n",
    "#Exponential\n",
    "print(\"Exponential: \",np.exp(array1))"
   ]
  }
 ],
 "metadata": {
  "kernelspec": {
   "display_name": "Python 3",
   "language": "python",
   "name": "python3"
  },
  "language_info": {
   "codemirror_mode": {
    "name": "ipython",
    "version": 3
   },
   "file_extension": ".py",
   "mimetype": "text/x-python",
   "name": "python",
   "nbconvert_exporter": "python",
   "pygments_lexer": "ipython3",
   "version": "3.10.13"
  }
 },
 "nbformat": 4,
 "nbformat_minor": 2
}
